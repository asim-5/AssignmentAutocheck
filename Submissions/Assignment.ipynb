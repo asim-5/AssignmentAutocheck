{
  "nbformat": 4,
  "nbformat_minor": 0,
  "metadata": {
    "colab": {
      "provenance": []
    },
    "kernelspec": {
      "name": "python3",
      "display_name": "Python 3"
    },
    "language_info": {
      "name": "python"
    }
  },
  "cells": [
    {
      "cell_type": "markdown",
      "source": [
        "# **Task 1**\n",
        "Write a function calculate_total_cost(price_list, tax_rate) that takes:\n",
        "1. A list of product prices (price_list).\n",
        "2. A sales tax rate of 5%.\n",
        "3. Returns the total cost after applying the sales tax."
      ],
      "metadata": {
        "id": "WxnNkZ2Vrkte"
      }
    },
    {
      "cell_type": "code",
      "source": [
        "# Write a function calculate_total_cost(price_list, tax_rate) that takes:\n",
        "\n",
        "# A list of product prices (price_list).\n",
        "# A sales tax rate of 5%.\n",
        "# Returns the total cost after applying the sales tax.\n",
        "def calculate_total_cost(price_list, tax_rate=0.05):\n",
        "  total_cost = 0\n",
        "  for price in price_list:\n",
        "    total_cost += price\n",
        "  total_cost += total_cost * tax_rate\n",
        "  return total_cost\n",
        "calculate_total_cost(([100,200,300]))"
      ],
      "metadata": {
        "id": "cauAQnjDXLsc",
        "outputId": "3f5ca22b-47f3-42b8-8cb2-b3016e51e659",
        "colab": {
          "base_uri": "https://localhost:8080/"
        }
      },
      "execution_count": null,
      "outputs": [
        {
          "output_type": "execute_result",
          "data": {
            "text/plain": [
              "630.0"
            ]
          },
          "metadata": {},
          "execution_count": 18
        }
      ]
    },
    {
      "cell_type": "markdown",
      "source": [
        "#**Task 2**\n",
        "Write a function which takes in a text as an argument, checks if the text is a palindrome or not and return the true if the text is palindrome otherwise returns false.\n",
        "\n",
        "\n",
        "PS: A palindrome is a word, phrase, or number that reads the same forward and backward\n",
        "\n",
        "\n",
        "example: madam, racecar etc."
      ],
      "metadata": {
        "id": "8mOHt0slrqoN"
      }
    },
    {
      "cell_type": "code",
      "source": [
        "# Write a function which takes in a text as an argument, checks if the text is a palindrome or not and return the true if the text is palindrome otherwise returns false.\n",
        "\n",
        "# PS: A palindrome is a word, phrase, or number that reads the same forward and backward\n",
        "\n",
        "# example: madam, racecar etc.\n",
        "\n",
        "def is_palindrome(taxt):\n",
        "  taxt = taxt.lower()\n",
        "  return taxt == taxt[::-1]\n",
        "print(is_palindrome(\"madam\"))\n",
        "print(is_palindrome(\"moizziom\"))\n",
        "print(is_palindrome(\"Moiz\"))"
      ],
      "metadata": {
        "colab": {
          "base_uri": "https://localhost:8080/"
        },
        "id": "7A0GZFzGYkdf",
        "outputId": "2b8ab876-9313-4d43-f847-4cf8145625b7"
      },
      "execution_count": null,
      "outputs": [
        {
          "output_type": "stream",
          "name": "stdout",
          "text": [
            "True\n",
            "True\n",
            "False\n"
          ]
        }
      ]
    },
    {
      "cell_type": "markdown",
      "source": [
        "#**Task 3**\n",
        "Create a program that simulates a car's actions (start, stop, and turn) using functions.\n",
        "\n",
        "1. Write a function start_car() that prints \"The car has started.\"\n",
        "\n",
        "2. Write a function stop_car() that prints \"The car has stopped.\"\n",
        "\n",
        "3. Write a function turn_car(direction) that:\n",
        "\n",
        "\n",
        "4. Takes a direction argument (\"left\" or \"right\").\n",
        "\n",
        "  *   Prints \"The car is turning left.\" or \"The car is turning right.\"\n",
        "\n",
        "  *  Handle invalid directions with an error message.\n",
        "5. Write a main() function to  call all these functions atleast once.\n",
        "\n"
      ],
      "metadata": {
        "id": "itW0R9CPuUtc"
      }
    },
    {
      "cell_type": "code",
      "source": [
        "# Create a program that simulates a car's actions (start, stop, and turn) using functions.\n",
        "\n",
        "# Write a function start_car() that prints \"The car has started.\"\n",
        "\n",
        "# Write a function stop_car() that prints \"The car has stopped.\"\n",
        "\n",
        "# Write a function turn_car(direction) that:\n",
        "\n",
        "# Takes a direction argument (\"left\" or \"right\").\n",
        "\n",
        "# Prints \"The car is turning left.\" or \"The car is turning right.\"\n",
        "\n",
        "# Handle invalid directions with an error message.\n",
        "\n",
        "# Write a main() function to call all these functions atleast once.\n",
        "\n",
        "def start_car():\n",
        "  print(\"The car has started \")\n",
        "def stop_car():\n",
        "  print(\"The car has stopped \")\n",
        "def turn_car(direction):\n",
        "  if direction == \"left\":\n",
        "    print(\"The car is turning left \")\n",
        "  elif direction == \"right\":\n",
        "    print(\"The car is turning right \")\n",
        "  else:\n",
        "    print(\"Invalid direction \")\n",
        "    return\n",
        "def main():\n",
        "    start_car()\n",
        "    turn_car(\"left\")\n",
        "    turn_car(\"right\")\n",
        "    turn_car(\"up\")  # Invalid input test\n",
        "    stop_car()\n",
        "    return\n",
        "main()"
      ],
      "metadata": {
        "colab": {
          "base_uri": "https://localhost:8080/"
        },
        "id": "3PdCvs3KaGoP",
        "outputId": "2fe2c74b-a6c2-4fc5-c437-f29e5c3865e1"
      },
      "execution_count": null,
      "outputs": [
        {
          "output_type": "stream",
          "name": "stdout",
          "text": [
            "The car has started \n",
            "The car is turning left \n",
            "The car is turning right \n",
            "Invalid direction \n",
            "The car has stopped \n"
          ]
        }
      ]
    },
    {
      "cell_type": "code",
      "source": [],
      "metadata": {
        "id": "u39NxqfRdK2E"
      },
      "execution_count": null,
      "outputs": []
    }
  ]
}