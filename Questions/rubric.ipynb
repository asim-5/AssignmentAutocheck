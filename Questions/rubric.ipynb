{
  "nbformat": 4,
  "nbformat_minor": 0,
  "metadata": {
    "colab": {
      "provenance": []
    },
    "kernelspec": {
      "name": "python3",
      "display_name": "Python 3"
    },
    "language_info": {
      "name": "python"
    }
  },
  "cells": [
    {
      "cell_type": "markdown",
      "source": [
        "# **Task 1**\n",
        "Write a function calculate_total_cost(price_list, tax_rate) that takes:\n",
        "1. A list of product prices (price_list).\n",
        "2. A sales tax rate of 5%.\n",
        "3. Returns the total cost after applying the sales tax."
      ],
      "metadata": {
        "id": "WxnNkZ2Vrkte"
      }
    },
    {
      "cell_type": "markdown",
      "source": [
        "#**Task 2**\n",
        "Write a function which takes in a text as an argument, checks if the text is a palindrome or not and return the true if the text is palindrome otherwise returns false.\n",
        "\n",
        "\n",
        "PS: A palindrome is a word, phrase, or number that reads the same forward and backward\n",
        "\n",
        "\n",
        "example: madam, racecar etc."
      ],
      "metadata": {
        "id": "8mOHt0slrqoN"
      }
    },
    {
      "cell_type": "markdown",
      "source": [
        "#**Task 3**\n",
        "Create a program that simulates a car's actions (start, stop, and turn) using functions.\n",
        "\n",
        "1. Write a function start_car() that prints \"The car has started.\"\n",
        "\n",
        "2. Write a function stop_car() that prints \"The car has stopped.\"\n",
        "\n",
        "3. Write a function turn_car(direction) that:\n",
        "\n",
        "\n",
        "4. Takes a direction argument (\"left\" or \"right\").\n",
        "\n",
        "  *   Prints \"The car is turning left.\" or \"The car is turning right.\"\n",
        "\n",
        "  *  Handle invalid directions with an error message.\n",
        "5. Write a main() function to  call all these functions atleast once.\n",
        "\n"
      ],
      "metadata": {
        "id": "itW0R9CPuUtc"
      }
    }
  ]
}