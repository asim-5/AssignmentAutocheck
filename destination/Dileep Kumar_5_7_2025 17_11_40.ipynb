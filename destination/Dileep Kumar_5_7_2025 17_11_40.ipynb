{
  "nbformat": 4,
  "nbformat_minor": 0,
  "metadata": {
    "colab": {
      "provenance": []
    },
    "kernelspec": {
      "name": "python3",
      "display_name": "Python 3"
    },
    "language_info": {
      "name": "python"
    }
  },
  "cells": [
    {
      "cell_type": "markdown",
      "source": [
        "# **Tuples**\n",
        "\n",
        "1. Create a tuple called `person` with the following elements:  \n",
        "   - `\"Alex\"` (name)  \n",
        "   - `30` (age)  \n",
        "   - `\"Engineer\"` (profession)  \n",
        "   - `True` (is_employed)  \n",
        "\n",
        "2. Print the `name` and `profession` from the tuple.  \n",
        "\n",
        "3. Create a tuple called `numbers` with values `(10, 20, 30, 40, 50)`.  \n",
        "   - Print the first element and the last element using indexing.  \n",
        "\n",
        "\n"
      ],
      "metadata": {
        "id": "11BuhIopL-uT"
      }
    },
    {
      "cell_type": "markdown",
      "source": [
        "# **Sets**\n",
        "\n",
        "1. Create a set called `fruits` with the following items:  \n",
        "   `\"apple\"`, `\"banana\"`, `\"cherry\"`, `\"apple\"`, `\"orange\"`.  \n",
        "   - Print the set and explain how duplicates are handled.  \n",
        "\n",
        "2. Add a new fruit `\"grape\"` to the `fruits` set.  \n",
        "   - Then remove `\"banana\"` from the set.  \n",
        "\n",
        "3. Create two sets:  \n",
        "   - `set_a = {1, 2, 3, 4}`  \n",
        "   - `set_b = {3, 4, 5, 6}`  \n",
        "   Perform and print the results of the following operations:  \n",
        "   - Union  \n",
        "   - Intersection  \n",
        "   - Difference (set_a - set_b)  \n",
        "   - Symmetric Difference  \n",
        "\n",
        "4. Given the list `numbers = [1, 2, 2, 3, 4, 4, 5]`,  \n",
        "   - Convert it into a set to remove duplicates and print the result.  \n"
      ],
      "metadata": {
        "id": "oBBwwnC1MXpv"
      }
    }
  ]
}