{
  "nbformat": 4,
  "nbformat_minor": 0,
  "metadata": {
    "colab": {
      "provenance": []
    },
    "kernelspec": {
      "name": "python3",
      "display_name": "Python 3"
    },
    "language_info": {
      "name": "python"
    }
  },
  "cells": [
    {
      "cell_type": "markdown",
      "source": [
        "# **Task 1**\n",
        "Write a function calculate_total_cost(price_list, tax_rate) that takes:\n",
        "1. A list of product prices (price_list).\n",
        "2. A sales tax rate of 5%.\n",
        "3. Returns the total cost after applying the sales tax."
      ],
      "metadata": {
        "id": "WxnNkZ2Vrkte"
      }
    },
    {
      "cell_type": "code",
      "source": [
        "def calculate_total_cost(price_list, tax_rate):\n",
        "  sub_total= sum(price_list)\n",
        "  sale_tax = sub_total * (tax_rate/100)\n",
        "  sales_tax_rate = sub_total + sale_tax\n",
        "  return sales_tax_rate\n",
        "price_list = input(\"Enter The List: \")\n",
        "price_list = [ float(x) for x in price_list.split()]\n",
        "print(price_list)\n",
        "tax_rate= float(input(\"Enter Ther Tax Rate: \"))\n",
        "calculate_total_cost(price_list, tax_rate)"
      ],
      "metadata": {
        "id": "WqVUhW7_ugHT",
        "colab": {
          "base_uri": "https://localhost:8080/"
        },
        "outputId": "0777bbf3-6407-4ad7-806b-fb4ba303bd3e"
      },
      "execution_count": null,
      "outputs": [
        {
          "name": "stdout",
          "output_type": "stream",
          "text": [
            "Enter The List: 33.4 22.4\n",
            "[33.4, 22.4]\n",
            "Enter Ther Tax Rate: 5\n"
          ]
        },
        {
          "output_type": "execute_result",
          "data": {
            "text/plain": [
              "58.589999999999996"
            ]
          },
          "metadata": {},
          "execution_count": 6
        }
      ]
    },
    {
      "cell_type": "markdown",
      "source": [
        "#**Task 2**\n",
        "Write a function which takes in a text as an argument, checks if the text is a palindrome or not and return the true if the text is palindrome otherwise returns false.\n",
        "\n",
        "\n",
        "PS: A palindrome is a word, phrase, or number that reads the same forward and backward\n",
        "\n",
        "\n",
        "example: madam, racecar etc."
      ],
      "metadata": {
        "id": "8mOHt0slrqoN"
      }
    },
    {
      "cell_type": "code",
      "source": [
        "def palindrome(text):\n",
        "  name= text[::-1]\n",
        "  if name == text:\n",
        "    return True\n",
        "  else:\n",
        "    return False\n",
        "palindrome(\"acecar\")"
      ],
      "metadata": {
        "id": "Jwnd8TN0udKD"
      },
      "execution_count": null,
      "outputs": []
    },
    {
      "cell_type": "markdown",
      "source": [
        "#**Task 3**\n",
        "Create a program that simulates a car's actions (start, stop, and turn) using functions.\n",
        "\n",
        "1. Write a function start_car() that prints \"The car has started.\"\n",
        "\n",
        "2. Write a function stop_car() that prints \"The car has stopped.\"\n",
        "\n",
        "3. Write a function turn_car(direction) that:\n",
        "\n",
        "\n",
        "4. Takes a direction argument (\"left\" or \"right\").\n",
        "\n",
        "  *   Prints \"The car is turning left.\" or \"The car is turning right.\"\n",
        "\n",
        "  *  Handle invalid directions with an error message.\n",
        "5. Write a main() function to  call all these functions atleast once.\n",
        "\n"
      ],
      "metadata": {
        "id": "itW0R9CPuUtc"
      }
    },
    {
      "cell_type": "code",
      "source": [
        "def start_car():\n",
        "  print(\"The car has started\")\n",
        "def stop_car():\n",
        "  print(\"The car has stopped\")\n",
        "def turn_car(direction):\n",
        "  if direction.lower() == \"left\":\n",
        "        print(\"The car is turning left.\")\n",
        "  elif direction.lower() == \"right\":\n",
        "    print(\"The car is turning right.\")\n",
        "  else:\n",
        "    print(\"Invalid direction. Please enter 'left' or 'right'.\")\n",
        "\n",
        "def main():\n",
        "    start_car()\n",
        "    turn_car(\"left\")\n",
        "    turn_car(\"right\")\n",
        "    turn_car(\"straight\")\n",
        "    stop_car()\n",
        "\n",
        "\n"
      ],
      "metadata": {
        "id": "OxdsOAl3u2uw",
        "colab": {
          "base_uri": "https://localhost:8080/"
        },
        "outputId": "9cada92d-98b8-4890-d3d1-bb96d1830d31"
      },
      "execution_count": 6,
      "outputs": [
        {
          "output_type": "stream",
          "name": "stdout",
          "text": [
            "The car is turning left.\n"
          ]
        }
      ]
    },
    {
      "cell_type": "code",
      "source": [],
      "metadata": {
        "id": "Hj31hzPD0_R7"
      },
      "execution_count": 5,
      "outputs": []
    }
  ]
}